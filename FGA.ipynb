{
 "cells": [
  {
   "cell_type": "code",
   "execution_count": 1,
   "id": "1a6e3a3f",
   "metadata": {},
   "outputs": [],
   "source": [
    "import numpy as np\n",
    "import pandas as pd \n",
    "import networkx as nx\n",
    "from graphviz import Digraph\n",
    "import matplotlib.pyplot as plt"
   ]
  },
  {
   "cell_type": "code",
   "execution_count": 2,
   "id": "33316989",
   "metadata": {},
   "outputs": [
    {
     "data": {
      "text/html": [
       "<div>\n",
       "<style scoped>\n",
       "    .dataframe tbody tr th:only-of-type {\n",
       "        vertical-align: middle;\n",
       "    }\n",
       "\n",
       "    .dataframe tbody tr th {\n",
       "        vertical-align: top;\n",
       "    }\n",
       "\n",
       "    .dataframe thead th {\n",
       "        text-align: right;\n",
       "    }\n",
       "</style>\n",
       "<table border=\"1\" class=\"dataframe\">\n",
       "  <thead>\n",
       "    <tr style=\"text-align: right;\">\n",
       "      <th></th>\n",
       "      <th>SOURCE</th>\n",
       "      <th>TARGET</th>\n",
       "      <th>RATING</th>\n",
       "      <th>TIME</th>\n",
       "    </tr>\n",
       "  </thead>\n",
       "  <tbody>\n",
       "    <tr>\n",
       "      <th>0</th>\n",
       "      <td>7188</td>\n",
       "      <td>1</td>\n",
       "      <td>1.0</td>\n",
       "      <td>1407470400</td>\n",
       "    </tr>\n",
       "    <tr>\n",
       "      <th>1</th>\n",
       "      <td>430</td>\n",
       "      <td>1</td>\n",
       "      <td>1.0</td>\n",
       "      <td>1376539200</td>\n",
       "    </tr>\n",
       "    <tr>\n",
       "      <th>2</th>\n",
       "      <td>3134</td>\n",
       "      <td>1</td>\n",
       "      <td>1.0</td>\n",
       "      <td>1369713600</td>\n",
       "    </tr>\n",
       "    <tr>\n",
       "      <th>3</th>\n",
       "      <td>3026</td>\n",
       "      <td>1</td>\n",
       "      <td>1.0</td>\n",
       "      <td>1350014400</td>\n",
       "    </tr>\n",
       "    <tr>\n",
       "      <th>4</th>\n",
       "      <td>3010</td>\n",
       "      <td>1</td>\n",
       "      <td>1.0</td>\n",
       "      <td>1347854400</td>\n",
       "    </tr>\n",
       "    <tr>\n",
       "      <th>...</th>\n",
       "      <td>...</td>\n",
       "      <td>...</td>\n",
       "      <td>...</td>\n",
       "      <td>...</td>\n",
       "    </tr>\n",
       "    <tr>\n",
       "      <th>24181</th>\n",
       "      <td>7604</td>\n",
       "      <td>7601</td>\n",
       "      <td>1.0</td>\n",
       "      <td>1364270400</td>\n",
       "    </tr>\n",
       "    <tr>\n",
       "      <th>24182</th>\n",
       "      <td>7601</td>\n",
       "      <td>7604</td>\n",
       "      <td>1.0</td>\n",
       "      <td>1364270400</td>\n",
       "    </tr>\n",
       "    <tr>\n",
       "      <th>24183</th>\n",
       "      <td>7604</td>\n",
       "      <td>7602</td>\n",
       "      <td>1.0</td>\n",
       "      <td>1364270400</td>\n",
       "    </tr>\n",
       "    <tr>\n",
       "      <th>24184</th>\n",
       "      <td>7602</td>\n",
       "      <td>7604</td>\n",
       "      <td>1.0</td>\n",
       "      <td>1364270400</td>\n",
       "    </tr>\n",
       "    <tr>\n",
       "      <th>24185</th>\n",
       "      <td>7604</td>\n",
       "      <td>7603</td>\n",
       "      <td>-1.0</td>\n",
       "      <td>1364270400</td>\n",
       "    </tr>\n",
       "  </tbody>\n",
       "</table>\n",
       "<p>24186 rows × 4 columns</p>\n",
       "</div>"
      ],
      "text/plain": [
       "       SOURCE  TARGET  RATING        TIME\n",
       "0        7188       1     1.0  1407470400\n",
       "1         430       1     1.0  1376539200\n",
       "2        3134       1     1.0  1369713600\n",
       "3        3026       1     1.0  1350014400\n",
       "4        3010       1     1.0  1347854400\n",
       "...       ...     ...     ...         ...\n",
       "24181    7604    7601     1.0  1364270400\n",
       "24182    7601    7604     1.0  1364270400\n",
       "24183    7604    7602     1.0  1364270400\n",
       "24184    7602    7604     1.0  1364270400\n",
       "24185    7604    7603    -1.0  1364270400\n",
       "\n",
       "[24186 rows x 4 columns]"
      ]
     },
     "execution_count": 2,
     "metadata": {},
     "output_type": "execute_result"
    }
   ],
   "source": [
    "df_alpha = pd.read_csv('./soc-sign-bitcoinalpha.csv',header=None)\n",
    "df_alpha.rename(columns = {0:'SOURCE', 1:'TARGET',2:'RATING',3:'TIME'}, inplace = True)\n",
    "df_alpha[\"RATING\"] = df_alpha[\"RATING\"].map(lambda x:x/10)\n",
    "df_alpha"
   ]
  },
  {
   "cell_type": "code",
   "execution_count": 3,
   "id": "d0edae29",
   "metadata": {},
   "outputs": [],
   "source": [
    "fairness = dict()\n",
    "for i in df_alpha.index:\n",
    "    fairness[df_alpha.loc[i, \"SOURCE\"]] = 1\n",
    "\n",
    "goodness = dict()\n",
    "for i in df_alpha.index:\n",
    "    goodness[df_alpha.loc[i, \"TARGET\"]] = 1"
   ]
  },
  {
   "cell_type": "code",
   "execution_count": 4,
   "id": "3b5ba233",
   "metadata": {},
   "outputs": [],
   "source": [
    "def next_goodness(g: dict, f: dict):\n",
    "    for j, v in enumerate(g.keys()):\n",
    "        sum = 0\n",
    "        df_v = df_alpha[df_alpha.loc[:, \"TARGET\"] == v]\n",
    "        in_v = len(df_v)\n",
    "        for i in df_v.index:\n",
    "            sum += f[df_v.loc[i, \"SOURCE\"]] * df_v.loc[i, \"RATING\"]\n",
    "\n",
    "        g[v] = sum / in_v\n",
    "    return g\n",
    "\n",
    "def next_fairness(f: dict, g: dict):\n",
    "    for u in f.keys():\n",
    "        sum = 0\n",
    "        df_u = df_alpha[df_alpha.loc[:, \"SOURCE\"] == u]\n",
    "        out_u = len(df_u)\n",
    "        for i in df_u.index:\n",
    "            sum += abs(df_u.loc[i, \"RATING\"] - g[df_u.loc[i, \"TARGET\"]]) / 2\n",
    "        f[u] = 1 - sum / out_u\n",
    "    return f\n",
    "\n",
    "def judge_goodness(good:dict, next:dict):\n",
    "    sum = 0\n",
    "    for u, g in good.items():\n",
    "        g_next = next[u]\n",
    "        sum += abs(g - g_next)\n",
    "    if(sum > 0.001):\n",
    "        return True\n",
    "    else:\n",
    "        return False\n",
    "\n",
    "def judge_fairness(fair: dict, next: dict):\n",
    "    sum = 0\n",
    "    for u, f in fair.items():\n",
    "        f_next = next[u]\n",
    "        sum += abs(f - f_next)\n",
    "    if(sum > 0.001):\n",
    "\n",
    "        return True\n",
    "    else:\n",
    "        return False\n",
    "import time\n",
    "def FGA(dict_f: dict, dict_g: dict):\n",
    "    t = 0\n",
    "    next_g = next_goodness(dict_g.copy(), dict_f.copy())\n",
    "    next_f = next_fairness(dict_f.copy(), dict_g.copy())\n",
    "    s1 = time.time()\n",
    "    \n",
    "    while (judge_goodness(dict_g, next_g) or judge_fairness(dict_f, next_f)):\n",
    "        print(t)\n",
    "        t = t + 1\n",
    "        dict_g = next_g.copy()\n",
    "        dict_f = next_f.copy()\n",
    "\n",
    "        print(\"judge:\", time.time() - s1)\n",
    "        s1 = time.time()\n",
    "\n",
    "        next_g = next_goodness(next_g.copy(), next_f.copy())\n",
    "        next_f = next_fairness(next_f.copy(), next_g.copy())\n",
    "        print(\"next:\", time.time() - s1)\n",
    "        s1 = time.time()\n",
    "        \n",
    "    return next_g, next_f, t"
   ]
  },
  {
   "cell_type": "code",
   "execution_count": 5,
   "id": "35665b1b",
   "metadata": {},
   "outputs": [
    {
     "name": "stdout",
     "output_type": "stream",
     "text": [
      "0\n",
      "judge: 0.0012090206146240234\n",
      "next: 1.6246919631958008\n",
      "1\n",
      "judge: 0.0008380413055419922\n",
      "next: 1.617386817932129\n",
      "2\n",
      "judge: 0.0007889270782470703\n",
      "next: 1.6376876831054688\n",
      "3\n",
      "judge: 0.0008890628814697266\n",
      "next: 1.6031222343444824\n",
      "4\n",
      "judge: 0.0007562637329101562\n",
      "next: 1.6428842544555664\n",
      "5\n",
      "judge: 0.000743865966796875\n",
      "next: 1.6266696453094482\n",
      "6\n",
      "judge: 0.0011241436004638672\n",
      "next: 1.6773920059204102\n",
      "7\n",
      "judge: 0.0007240772247314453\n",
      "next: 1.59425687789917\n",
      "8\n",
      "judge: 0.0007767677307128906\n",
      "next: 1.6312909126281738\n",
      "9\n",
      "judge: 0.0008027553558349609\n",
      "next: 1.6506669521331787\n",
      "10\n",
      "judge: 0.0008280277252197266\n",
      "next: 1.613023042678833\n",
      "11\n",
      "judge: 0.0007381439208984375\n",
      "next: 1.5968191623687744\n"
     ]
    }
   ],
   "source": [
    "good, fair, t = FGA(fairness, goodness)"
   ]
  },
  {
   "cell_type": "code",
   "execution_count": 6,
   "metadata": {
    "collapsed": false
   },
   "outputs": [],
   "source": [
    "import pickle\n",
    "fairness_of_nodes = open(\"./fairness_of_nodes.pickle\", \"wb\")\n",
    "pickle.dump(fair, fairness_of_nodes)\n",
    "fairness_of_nodes.close()\n",
    "goodness_of_nodes = open(\"./goodness_of_nodes.pickle\", \"wb\")\n",
    "pickle.dump(good, goodness_of_nodes)\n",
    "goodness_of_nodes.close()"
   ]
  },
  {
   "cell_type": "code",
   "execution_count": 7,
   "metadata": {
    "collapsed": false
   },
   "outputs": [
    {
     "data": {
      "text/plain": [
       "(0.9999999999999999, 0.35135923922144374)"
      ]
     },
     "execution_count": 7,
     "metadata": {},
     "output_type": "execute_result"
    }
   ],
   "source": [
    "max(fair.values()), min(fair.values())"
   ]
  },
  {
   "cell_type": "code",
   "execution_count": 8,
   "metadata": {
    "collapsed": false
   },
   "outputs": [
    {
     "data": {
      "text/plain": [
       "(0.9937442766341511, -0.99951171875)"
      ]
     },
     "execution_count": 8,
     "metadata": {},
     "output_type": "execute_result"
    }
   ],
   "source": [
    "max(good.values()), min(good.values())"
   ]
  },
  {
   "cell_type": "code",
   "execution_count": null,
   "metadata": {
    "collapsed": false
   },
   "outputs": [],
   "source": []
  }
 ],
 "metadata": {
  "kernelspec": {
   "display_name": "Python 3.9.13 ('base')",
   "language": "python",
   "name": "python3"
  },
  "language_info": {
   "codemirror_mode": {
    "name": "ipython",
    "version": 3
   },
   "file_extension": ".py",
   "mimetype": "text/x-python",
   "name": "python",
   "nbconvert_exporter": "python",
   "pygments_lexer": "ipython3",
   "version": "3.9.13"
  },
  "vscode": {
   "interpreter": {
    "hash": "5d2d9d1f7d0ab3581b5d8e0558b486519cee18dd69f18a164b556a05864833c3"
   }
  }
 },
 "nbformat": 4,
 "nbformat_minor": 5
}
