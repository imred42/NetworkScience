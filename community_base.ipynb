{
 "cells": [
  {
   "cell_type": "code",
   "execution_count": null,
   "metadata": {},
   "outputs": [],
   "source": []
  },
  {
   "cell_type": "code",
   "execution_count": 1,
   "metadata": {},
   "outputs": [],
   "source": [
    "import pandas as pd\n",
    "import networkx as nx\n",
    "import networkx.algorithms.community as nxcom\n",
    "import matplotlib.pyplot as plt\n",
    "import numpy as np"
   ]
  },
  {
   "cell_type": "code",
   "execution_count": null,
   "metadata": {},
   "outputs": [],
   "source": [
    "df_alph = pd.read_csv('soc-sign-bitcoinalpha.csv',header=None)\n",
    "df_alph.rename(columns = {0:'SOURCE', 1:'TARGET',2:'RATING',3:'TIME'}, inplace = True)\n",
    "df_alph"
   ]
  },
  {
   "cell_type": "code",
   "execution_count": 3,
   "metadata": {
    "collapsed": true
   },
   "outputs": [],
   "source": [
    "#visulization the dataset\n",
    "G = nx.from_pandas_edgelist(df_alph, source='SOURCE', target='TARGET',edge_attr='RATING',create_using=nx.DiGraph())"
   ]
  },
  {
   "cell_type": "code",
   "execution_count": 8,
   "metadata": {},
   "outputs": [],
   "source": [
    "G_undirected = G.to_undirected()"
   ]
  },
  {
   "cell_type": "code",
   "execution_count": 14,
   "metadata": {},
   "outputs": [],
   "source": [
    "for l in list(nx.strongly_connected_components(G)):\n",
    "    if len(l)>10:\n",
    "        G_strongly_connected = G.subgraph(l)"
   ]
  },
  {
   "cell_type": "code",
   "execution_count": 15,
   "metadata": {},
   "outputs": [],
   "source": [
    "G_sc_undirected = G_strongly_connected.to_undirected()"
   ]
  },
  {
   "cell_type": "code",
   "execution_count": 24,
   "metadata": {
    "collapsed": false
   },
   "outputs": [],
   "source": [
    "# This function uses Clauset-Newman-Moore greedy modularity maximization to find the community partition with the largest modularity.\n",
    "coms_gmc = list(nxcom.greedy_modularity_communities(G))\n",
    "# return a list of frozensets of nodes, one for each community. Sorted by length with largest communities first."
   ]
  },
  {
   "cell_type": "code",
   "execution_count": null,
   "metadata": {
    "collapsed": false,
    "pycharm": {
     "is_executing": true
    }
   },
   "outputs": [],
   "source": [
    "# too slow\n",
    "# Girvan–Newman method.\n",
    "# coms2 = list(nxcom.girvan_newman(G))\n",
    "# return Iterator over tuples of sets of nodes in G. Each set of node is a community, each tuple is a sequence of communities at a particular level of the algorithm."
   ]
  },
  {
   "cell_type": "code",
   "execution_count": null,
   "metadata": {
    "collapsed": false
   },
   "outputs": [],
   "source": [
    "# too slow\n",
    "# coms3 = nxcom.naive_greedy_modularity_communities(G_)\n",
    "# return a list of sets of nodes, one for each community. Sorted by length with largest communities first."
   ]
  },
  {
   "cell_type": "code",
   "execution_count": 21,
   "metadata": {
    "collapsed": false
   },
   "outputs": [],
   "source": [
    "#  asynchronous fluid communities algorithm\n",
    "coms_fluidc_25 = list(nxcom.asyn_fluidc(G_sc_undirected, k = 25))\n",
    "coms_fluidc_50 = list(nxcom.asyn_fluidc(G_sc_undirected, k = 50))\n",
    "coms_fluidc_100 = list(nxcom.asyn_fluidc(G_sc_undirected, k = 100))\n",
    "coms_fluidc_200 = list(nxcom.asyn_fluidc(G_sc_undirected, k = 200))\n",
    "coms_fluidc = [coms_fluidc_25, coms_fluidc_50, coms_fluidc_100, coms_fluidc_200]\n",
    "# return Iterable of communities given as sets of nodes."
   ]
  },
  {
   "cell_type": "code",
   "execution_count": 23,
   "metadata": {
    "collapsed": false
   },
   "outputs": [],
   "source": [
    "# Finds communities in G using a semi-synchronous label propagation method\n",
    "coms_lpc = list(nxcom.label_propagation_communities(G_undirected))\n",
    "# return A dict_values object that contains a set of nodes for each community."
   ]
  },
  {
   "cell_type": "code",
   "execution_count": 34,
   "metadata": {
    "collapsed": false
   },
   "outputs": [],
   "source": [
    "# detected by asynchronous label propagation.\n",
    "coms_lpa = list(nxcom.asyn_lpa_communities(G, weight='RATING'))\n",
    "# return Iterable of communities given as sets of nodes."
   ]
  },
  {
   "cell_type": "code",
   "execution_count": 33,
   "metadata": {},
   "outputs": [],
   "source": [
    "coms_k_clique_5 = list(nxcom.k_clique_communities(G_undirected, 5))\n",
    "coms_k_clique_10 = list(nxcom.k_clique_communities(G_undirected, 10))\n",
    "coms_k_clique_20 = list(nxcom.k_clique_communities(G_undirected, 20))\n",
    "coms_k_clique_40 = list(nxcom.k_clique_communities(G_undirected, 40))\n",
    "coms_k_clique = [coms_k_clique_5, coms_k_clique_10, coms_k_clique_20, coms_k_clique_40]"
   ]
  },
  {
   "cell_type": "markdown",
   "metadata": {},
   "source": [
    "### Test using first: greedy_modularity_communities"
   ]
  },
  {
   "cell_type": "code",
   "execution_count": null,
   "metadata": {
    "collapsed": false
   },
   "outputs": [
    {
     "data": {
      "text/plain": [
       "65"
      ]
     },
     "metadata": {},
     "output_type": "display_data"
    }
   ],
   "source": [
    "len(coms1)"
   ]
  },
  {
   "cell_type": "code",
   "execution_count": null,
   "metadata": {},
   "outputs": [
    {
     "name": "stdout",
     "output_type": "stream",
     "text": [
      "1282\n",
      "1160\n",
      "533\n",
      "244\n",
      "128\n",
      "83\n",
      "63\n"
     ]
    }
   ],
   "source": [
    "for fs in coms1[:7]:\n",
    "    print(len(fs))"
   ]
  },
  {
   "cell_type": "code",
   "execution_count": null,
   "metadata": {},
   "outputs": [],
   "source": [
    "G_reverse = nx.reverse(G)"
   ]
  },
  {
   "cell_type": "code",
   "execution_count": null,
   "metadata": {},
   "outputs": [],
   "source": [
    "sub_G = G.subgraph(coms1[5])"
   ]
  },
  {
   "cell_type": "code",
   "execution_count": null,
   "metadata": {},
   "outputs": [
    {
     "data": {
      "text/plain": [
       "False"
      ]
     },
     "metadata": {},
     "output_type": "display_data"
    }
   ],
   "source": [
    "nx.is_strongly_connected(sub_G)"
   ]
  },
  {
   "cell_type": "code",
   "execution_count": null,
   "metadata": {},
   "outputs": [],
   "source": [
    "for i, com in enumerate(coms1):\n",
    "    if nx.is_strongly_connected(G.subgraph(com)):\n",
    "        print(i)"
   ]
  },
  {
   "cell_type": "code",
   "execution_count": null,
   "metadata": {},
   "outputs": [],
   "source": [
    "for i, com in enumerate(coms1):\n",
    "    if not nx.is_weakly_connected(G.subgraph(com)):\n",
    "        print(i)\n",
    "\n",
    "# All are weakly connected"
   ]
  },
  {
   "cell_type": "code",
   "execution_count": null,
   "metadata": {},
   "outputs": [],
   "source": [
    "def cal_internal_weights(com):\n",
    "    sub_G = G.subgraph(com)\n",
    "    weights = 0\n",
    "    ratings = nx.get_edge_attributes(sub_G, 'RATING')\n",
    "    for edge in sub_G.edges():\n",
    "        weights += ratings[edge]\n",
    "\n",
    "    return weights, len(sub_G.edges())\n",
    "\n",
    "def cal_external_weights(com):\n",
    "    generator = nx.edge_boundary(G_reverse, com)\n",
    "    weights = 0\n",
    "    cnt = 0\n",
    "    ratings = nx.get_edge_attributes(G_reverse, 'RATING')\n",
    "    for edge in generator:\n",
    "        weights += ratings[edge]\n",
    "        cnt += 1\n",
    "    return weights, cnt"
   ]
  },
  {
   "cell_type": "code",
   "execution_count": null,
   "metadata": {},
   "outputs": [],
   "source": [
    "def analyze_communities(coms):\n",
    "    iws, ics, ews, ecs = [],[],[],[] #internal, external\n",
    "    iaws, eaws = [],[] # average\n",
    "    diffs = [] # difference\n",
    "\n",
    "    for com in coms:\n",
    "        iw, ic = cal_internal_weights(com)\n",
    "        ew, ec = cal_external_weights(com)\n",
    "        if ec == 0:\n",
    "            continue\n",
    "        iws.append(iw)\n",
    "        ics.append(ic)\n",
    "        ews.append(ew)\n",
    "        ecs.append(ec)\n",
    "        iaw = round(iw/ic, 2)\n",
    "        eaw = round(ew/ec, 2)\n",
    "        iaws.append(iaw)\n",
    "        eaws.append(eaw)\n",
    "        diffs.append(iaw - eaw)\n",
    "    \n",
    "    return iaws, eaws, diffs\n"
   ]
  },
  {
   "cell_type": "code",
   "execution_count": null,
   "metadata": {},
   "outputs": [],
   "source": [
    "def analyze_difference(diffs):\n",
    "    diffs = np.array(diffs)\n",
    "    plt.hist(diffs)\n",
    "    plt.show()"
   ]
  },
  {
   "cell_type": "code",
   "execution_count": null,
   "metadata": {},
   "outputs": [
    {
     "ename": "NameError",
     "evalue": "name 'coms2' is not defined",
     "output_type": "error",
     "traceback": [
      "\u001b[0;31m---------------------------------------------------------------------------\u001b[0m\n",
      "\u001b[0;31mNameError\u001b[0m                                 Traceback (most recent call last)\n",
      "\u001b[1;32m/Users/nanfangwuyu/Desktop/StudyFolder/Common Workspace/vs code projects/Jupyter Notebook projects/NetworkScience Final/community.ipynb Cell 23\u001b[0m in \u001b[0;36m<cell line: 1>\u001b[0;34m()\u001b[0m\n",
      "\u001b[0;32m----> <a href='vscode-notebook-cell:/Users/nanfangwuyu/Desktop/StudyFolder/Common%20Workspace/vs%20code%20projects/Jupyter%20Notebook%20projects/NetworkScience%20Final/community.ipynb#X35sZmlsZQ%3D%3D?line=0'>1</a>\u001b[0m iaws, eaws, diffs \u001b[39m=\u001b[39m analyze_communities(coms2)\n",
      "\n",
      "\u001b[0;31mNameError\u001b[0m: name 'coms2' is not defined"
     ]
    }
   ],
   "source": [
    "iaws, eaws, diffs = analyze_communities(coms2)"
   ]
  },
  {
   "cell_type": "code",
   "execution_count": null,
   "metadata": {},
   "outputs": [
    {
     "data": {
      "image/png": "[encoded data removed]",
      "text/plain": [
       "<Figure size 432x288 with 1 Axes>"
      ]
     },
     "metadata": {},
     "output_type": "display_data"
    },
    {
     "data": {
      "text/plain": [
       "([0.5,\n",
       "  -0.17999999999999994,\n",
       "  0.42000000000000015,\n",
       "  0.47,\n",
       "  1.06,\n",
       "  0.45999999999999996,\n",
       "  0.2100000000000004,\n",
       "  1.1700000000000002,\n",
       "  1.0,\n",
       "  -0.33000000000000007,\n",
       "  1.23,\n",
       "  -0.43999999999999995,\n",
       "  -2.3,\n",
       "  13.52,\n",
       "  0.8999999999999999,\n",
       "  1.1700000000000002,\n",
       "  1.1800000000000002,\n",
       "  4.2299999999999995,\n",
       "  1.4300000000000002,\n",
       "  3.1,\n",
       "  0.8099999999999998,\n",
       "  1.79,\n",
       "  1.28,\n",
       "  -1.4499999999999997,\n",
       "  1.65,\n",
       "  1.71,\n",
       "  1.1300000000000001,\n",
       "  6.17,\n",
       "  11.0,\n",
       "  1.8,\n",
       "  3.0,\n",
       "  0.5,\n",
       "  -0.5,\n",
       "  0.0,\n",
       "  0.25,\n",
       "  0.0,\n",
       "  0.0,\n",
       "  0.0,\n",
       "  6.0,\n",
       "  -0.33000000000000007,\n",
       "  0.0,\n",
       "  20.0,\n",
       "  8.0,\n",
       "  -1.67,\n",
       "  0.16999999999999993,\n",
       "  4.0,\n",
       "  2.0,\n",
       "  1.0,\n",
       "  2.0,\n",
       "  -0.5,\n",
       "  -1.0,\n",
       "  0.0,\n",
       "  0.5,\n",
       "  0.0,\n",
       "  0.5,\n",
       "  0.0,\n",
       "  -1.0,\n",
       "  0.0,\n",
       "  -2.0,\n",
       "  0.0,\n",
       "  0.0],\n",
       " None)"
      ]
     },
     "metadata": {},
     "output_type": "display_data"
    }
   ],
   "source": [
    "diffs, analyze_difference(diffs) "
   ]
  }
 ],
 "metadata": {
  "kernelspec": {
   "display_name": "Python 3.9.12 ('base')",
   "language": "python",
   "name": "python3"
  },
  "language_info": {
   "codemirror_mode": {
    "name": "ipython",
    "version": 3
   },
   "file_extension": ".py",
   "mimetype": "text/x-python",
   "name": "python",
   "nbconvert_exporter": "python",
   "pygments_lexer": "ipython3",
   "version": "3.9.12"
  },
  "orig_nbformat": 4,
  "vscode": {
   "interpreter": {
    "hash": "29ac1603b20e9949adfba2c1d532dd9772466cd9cf36154d7b125df92c7f874c"
   }
  }
 },
 "nbformat": 4,
 "nbformat_minor": 2
}
