{
 "cells": [
  {
   "cell_type": "code",
   "execution_count": 4,
   "metadata": {},
   "outputs": [],
   "source": [
    "import pandas as pd\n",
    "import networkx as nx\n",
    "import networkx.algorithms.community as nxcom\n",
    "import matplotlib.pyplot as plt\n",
    "import numpy as np"
   ]
  },
  {
   "cell_type": "code",
   "execution_count": 5,
   "metadata": {},
   "outputs": [
    {
     "data": {
      "text/html": [
       "<div>\n",
       "<style scoped>\n",
       "    .dataframe tbody tr th:only-of-type {\n",
       "        vertical-align: middle;\n",
       "    }\n",
       "\n",
       "    .dataframe tbody tr th {\n",
       "        vertical-align: top;\n",
       "    }\n",
       "\n",
       "    .dataframe thead th {\n",
       "        text-align: right;\n",
       "    }\n",
       "</style>\n",
       "<table border=\"1\" class=\"dataframe\">\n",
       "  <thead>\n",
       "    <tr style=\"text-align: right;\">\n",
       "      <th></th>\n",
       "      <th>SOURCE</th>\n",
       "      <th>TARGET</th>\n",
       "      <th>RATING</th>\n",
       "      <th>TIME</th>\n",
       "    </tr>\n",
       "  </thead>\n",
       "  <tbody>\n",
       "    <tr>\n",
       "      <th>0</th>\n",
       "      <td>7188</td>\n",
       "      <td>1</td>\n",
       "      <td>10</td>\n",
       "      <td>1407470400</td>\n",
       "    </tr>\n",
       "    <tr>\n",
       "      <th>1</th>\n",
       "      <td>430</td>\n",
       "      <td>1</td>\n",
       "      <td>10</td>\n",
       "      <td>1376539200</td>\n",
       "    </tr>\n",
       "    <tr>\n",
       "      <th>2</th>\n",
       "      <td>3134</td>\n",
       "      <td>1</td>\n",
       "      <td>10</td>\n",
       "      <td>1369713600</td>\n",
       "    </tr>\n",
       "    <tr>\n",
       "      <th>3</th>\n",
       "      <td>3026</td>\n",
       "      <td>1</td>\n",
       "      <td>10</td>\n",
       "      <td>1350014400</td>\n",
       "    </tr>\n",
       "    <tr>\n",
       "      <th>4</th>\n",
       "      <td>3010</td>\n",
       "      <td>1</td>\n",
       "      <td>10</td>\n",
       "      <td>1347854400</td>\n",
       "    </tr>\n",
       "  </tbody>\n",
       "</table>\n",
       "</div>"
      ],
      "text/plain": [
       "   SOURCE  TARGET  RATING        TIME\n",
       "0    7188       1      10  1407470400\n",
       "1     430       1      10  1376539200\n",
       "2    3134       1      10  1369713600\n",
       "3    3026       1      10  1350014400\n",
       "4    3010       1      10  1347854400"
      ]
     },
     "execution_count": 5,
     "metadata": {},
     "output_type": "execute_result"
    }
   ],
   "source": [
    "df_alpha = pd.read_csv('soc-sign-bitcoinalpha.csv',header=None)\n",
    "df_alpha.rename(columns = {0:'SOURCE', 1:'TARGET',2:'RATING',3:'TIME'}, inplace = True)\n",
    "df_alpha.head()"
   ]
  },
  {
   "cell_type": "code",
   "execution_count": 205,
   "metadata": {},
   "outputs": [],
   "source": [
    "df_alpha2 = pd.read_csv('soc-sign-bitcoinotc.csv',header=None)\n",
    "df_alpha2.rename(columns = {0:'SOURCE', 1:'TARGET',2:'RATING',3:'TIME'}, inplace = True)\n",
    "df_alpha2.head()\n",
    "G_otc = nx.from_pandas_edgelist(df_alpha2, source='SOURCE', target='TARGET',edge_attr='RATING',create_using=nx.DiGraph())\n",
    "\n",
    "\n"
   ]
  },
  {
   "cell_type": "markdown",
   "metadata": {},
   "source": [
    "## Forms of G"
   ]
  },
  {
   "cell_type": "code",
   "execution_count": 6,
   "metadata": {
    "collapsed": true
   },
   "outputs": [],
   "source": [
    "#visulization the dataset\n",
    "G = nx.from_pandas_edgelist(df_alpha, source='SOURCE', target='TARGET',edge_attr='RATING',create_using=nx.DiGraph())\n",
    "\n",
    "G_undirected = G.to_undirected()\n",
    "\n",
    "for l in list(nx.strongly_connected_components(G)):\n",
    "    if len(l)>10:\n",
    "        G_strongly_connected = G.subgraph(l)\n",
    "        break\n",
    "\n",
    "G_sc_undirected = G_strongly_connected.to_undirected()\n",
    "G_reverse = nx.reverse(G)"
   ]
  },
  {
   "cell_type": "markdown",
   "metadata": {},
   "source": [
    "## Clustering Communities"
   ]
  },
  {
   "cell_type": "code",
   "execution_count": 7,
   "metadata": {
    "collapsed": false
   },
   "outputs": [],
   "source": [
    "# This function uses Clauset-Newman-Moore greedy modularity maximization to find the community partition with the largest modularity.\n",
    "coms_gmc = list(nxcom.greedy_modularity_communities(G)) #cut off\n",
    "# return a list of frozensets of nodes, one for each community. Sorted by length with largest communities first."
   ]
  },
  {
   "cell_type": "code",
   "execution_count": 8,
   "metadata": {
    "collapsed": false
   },
   "outputs": [],
   "source": [
    "#  asynchronous fluid communities algorithm\n",
    "coms_fluidc_25 = list(nxcom.asyn_fluidc(G_sc_undirected, k = 25)) # number\n",
    "coms_fluidc_50 = list(nxcom.asyn_fluidc(G_sc_undirected, k = 50))\n",
    "coms_fluidc_100 = list(nxcom.asyn_fluidc(G_sc_undirected, k = 100))\n",
    "coms_fluidc_200 = list(nxcom.asyn_fluidc(G_sc_undirected, k = 200))\n",
    "coms_fluidc = [coms_fluidc_25, coms_fluidc_50, coms_fluidc_100, coms_fluidc_200]\n",
    "# return Iterable of communities given as sets of nodes."
   ]
  },
  {
   "cell_type": "code",
   "execution_count": 9,
   "metadata": {
    "collapsed": false
   },
   "outputs": [],
   "source": [
    "# Finds communities in G using a semi-synchronous label propagation method\n",
    "coms_lpc = list(nxcom.label_propagation_communities(G_undirected))\n",
    "# return A dict_values object that contains a set of nodes for each community."
   ]
  },
  {
   "cell_type": "code",
   "execution_count": 10,
   "metadata": {},
   "outputs": [],
   "source": [
    "\n",
    "coms_k_clique_3 = list(nxcom.k_clique_communities(G_undirected, 3))\n",
    "coms_k_clique_4 = list(nxcom.k_clique_communities(G_undirected, 4))\n",
    "coms_k_clique_5 = list(nxcom.k_clique_communities(G_undirected, 5))\n",
    "coms_k_clique_6 = list(nxcom.k_clique_communities(G_undirected, 6)) # min size\n",
    "coms_k_clique = [coms_k_clique_3, coms_k_clique_4, coms_k_clique_5, coms_k_clique_6]"
   ]
  },
  {
   "cell_type": "markdown",
   "metadata": {},
   "source": [
    "## Analysis"
   ]
  },
  {
   "cell_type": "code",
   "execution_count": 11,
   "metadata": {},
   "outputs": [],
   "source": [
    "def cal_internal_weights(com):\n",
    "    sub_G = G.subgraph(com)\n",
    "    weights = 0\n",
    "    ratings = nx.get_edge_attributes(sub_G, 'RATING')\n",
    "    for edge in sub_G.edges():\n",
    "        weights += ratings[edge]\n",
    "\n",
    "    return weights, len(sub_G.edges())\n",
    "\n",
    "def cal_external_weights(com):\n",
    "    generator = nx.edge_boundary(G_reverse, com)\n",
    "    weights = 0\n",
    "    cnt = 0\n",
    "    ratings = nx.get_edge_attributes(G_reverse, 'RATING')\n",
    "    for edge in generator:\n",
    "        weights += ratings[edge]\n",
    "        cnt += 1\n",
    "    return weights, cnt"
   ]
  },
  {
   "cell_type": "code",
   "execution_count": 188,
   "metadata": {},
   "outputs": [],
   "source": [
    "def analyze_communities(coms, threshold=10, return_commons=False):\n",
    "    iws, ics, ews, ecs = [],[],[],[] #internal, external\n",
    "    iaws, eaws = [],[] # average\n",
    "    diffs = [] # difference\n",
    "    cheatings = []\n",
    "    commons = []\n",
    "\n",
    "    for com in coms:\n",
    "        iw, ic = cal_internal_weights(com)\n",
    "        ew, ec = cal_external_weights(com)\n",
    "        if ec == 0 or ic == 0:\n",
    "            continue\n",
    "        iws.append(iw)\n",
    "        ics.append(ic)\n",
    "        ews.append(ew)\n",
    "        ecs.append(ec)\n",
    "        iaw = round(iw/ic, 2)\n",
    "        eaw = round(ew/ec, 2)\n",
    "        iaws.append(iaw)\n",
    "        eaws.append(eaw)\n",
    "        diffs.append(iaw - eaw)\n",
    "        if iaw - eaw >= threshold:\n",
    "            cheatings.append(com)\n",
    "        else: commons.append(com)\n",
    "    \n",
    "    if not return_commons:\n",
    "        return iaws, eaws, diffs, cheatings \n",
    "    else:\n",
    "        return iaws, eaws, diffs, cheatings, commons\n"
   ]
  },
  {
   "cell_type": "code",
   "execution_count": 13,
   "metadata": {},
   "outputs": [],
   "source": [
    "def analyze_difference(diffs):\n",
    "    diffs = np.array(diffs)\n",
    "    plt.hist(diffs)\n",
    "    plt.show()"
   ]
  },
  {
   "cell_type": "code",
   "execution_count": 14,
   "metadata": {},
   "outputs": [
    {
     "data": {
      "image/png": "[encoded data removed]",
      "text/plain": [
       "<Figure size 432x288 with 1 Axes>"
      ]
     },
     "metadata": {
      "needs_background": "light"
     },
     "output_type": "display_data"
    }
   ],
   "source": [
    "iaws, eaws, diffs, cheatings = analyze_communities(coms=coms_gmc)\n",
    "analyze_difference(diffs)"
   ]
  },
  {
   "cell_type": "code",
   "execution_count": 15,
   "metadata": {},
   "outputs": [
    {
     "data": {
      "image/png": "[encoded data removed]",
      "text/plain": [
       "<Figure size 432x288 with 1 Axes>"
      ]
     },
     "metadata": {
      "needs_background": "light"
     },
     "output_type": "display_data"
    }
   ],
   "source": [
    "iaws, eaws, diffs, cheatings = analyze_communities(coms=coms_lpc)\n",
    "analyze_difference(diffs)"
   ]
  },
  {
   "cell_type": "code",
   "execution_count": 16,
   "metadata": {},
   "outputs": [
    {
     "data": {
      "image/png": "[encoded data removed]",
      "text/plain": [
       "<Figure size 432x288 with 1 Axes>"
      ]
     },
     "metadata": {
      "needs_background": "light"
     },
     "output_type": "display_data"
    },
    {
     "data": {
      "image/png": "[encoded data removed]",
      "text/plain": [
       "<Figure size 432x288 with 1 Axes>"
      ]
     },
     "metadata": {
      "needs_background": "light"
     },
     "output_type": "display_data"
    },
    {
     "data": {
      "image/png": "[encoded data removed]",
      "text/plain": [
       "<Figure size 432x288 with 1 Axes>"
      ]
     },
     "metadata": {
      "needs_background": "light"
     },
     "output_type": "display_data"
    },
    {
     "data": {
      "image/png": "[encoded data removed]",
      "text/plain": [
       "<Figure size 432x288 with 1 Axes>"
      ]
     },
     "metadata": {
      "needs_background": "light"
     },
     "output_type": "display_data"
    }
   ],
   "source": [
    "for coms in coms_fluidc:\n",
    "    iaws, eaws, diffs, cheatings = analyze_communities(coms=coms)\n",
    "    analyze_difference(diffs)"
   ]
  },
  {
   "cell_type": "code",
   "execution_count": 17,
   "metadata": {},
   "outputs": [
    {
     "data": {
      "image/png": "[encoded data removed]",
      "text/plain": [
       "<Figure size 432x288 with 1 Axes>"
      ]
     },
     "metadata": {
      "needs_background": "light"
     },
     "output_type": "display_data"
    },
    {
     "data": {
      "image/png": "[encoded data removed]",
      "text/plain": [
       "<Figure size 432x288 with 1 Axes>"
      ]
     },
     "metadata": {
      "needs_background": "light"
     },
     "output_type": "display_data"
    },
    {
     "data": {
      "image/png": "[encoded data removed]",
      "text/plain": [
       "<Figure size 432x288 with 1 Axes>"
      ]
     },
     "metadata": {
      "needs_background": "light"
     },
     "output_type": "display_data"
    },
    {
     "data": {
      "image/png": "[encoded data removed]",
      "text/plain": [
       "<Figure size 432x288 with 1 Axes>"
      ]
     },
     "metadata": {
      "needs_background": "light"
     },
     "output_type": "display_data"
    }
   ],
   "source": [
    "for coms in coms_k_clique:\n",
    "    iaws, eaws, diffs, cheatings = analyze_communities(coms=coms)\n",
    "    analyze_difference(diffs)"
   ]
  },
  {
   "cell_type": "markdown",
   "metadata": {},
   "source": [
    "## Draw Pictures"
   ]
  },
  {
   "cell_type": "markdown",
   "metadata": {},
   "source": [
    "画图\n",
    "\n",
    "以10为界\n",
    "Example cheating networks\n",
    "\n",
    "**探究包含欺诈群体各类社群与good fair间关系**\n",
    "\n",
    "good/fair 以gmn为例 直方图\n",
    "good fair分布图 整个网络为整体 个体为单位 两个数据集 12\n",
    "good fair 分布图 典型欺诈性社群/信任社群/其他社群为整体 社群内个体为单位 一个数据集 13\n",
    "平均good fair 分布图 整个网络为整体 欺诈性社群/信任社群/其他社群 为单位 一个数据集 13\n",
    "\n",
    "**探究社群划分数量与大小 与diffs的关系**\n",
    "diffs \n",
    "algorithm, number, score difference, strong connected, multiple datasets, avg fog, community size\n",
    "\n",
    "折线图\n",
    "gmc，flu 横排 community number 纵向 diffs判定为cheating，信赖，普通的百分比 两个数据集 1 4\n",
    "\n",
    "点云图\n",
    "四种算法 横轴 community size 纵轴 diffs （可能平均fog）1 4 一个或两个数据集\n",
    "\n",
    "\n",
    "画表\n",
    "\n",
    "探究欺诈社群的判定与不同参数间的联系\n",
    "\n",
    "大横轴 alpha otc\n",
    "小横轴 四个算法\n",
    "纵轴 \n",
    "欺诈社群总体fair，以10  5为界\n",
    "欺诈社群百分比，以10为界，5为界\n",
    "欺诈社群强连通百分比 10 5\n",
    "\n",
    "\n",
    "challenge 可能不被识别为社群\n"
   ]
  },
  {
   "cell_type": "markdown",
   "metadata": {},
   "source": [
    "### Example cheatig networks"
   ]
  },
  {
   "cell_type": "code",
   "execution_count": 82,
   "metadata": {},
   "outputs": [],
   "source": [
    "iaws, eaws, diffs, cheatings = analyze_communities(coms=coms_lpc, threshold=5)\n"
   ]
  },
  {
   "cell_type": "code",
   "execution_count": 96,
   "metadata": {},
   "outputs": [],
   "source": [
    "example = cheatings[0]"
   ]
  },
  {
   "cell_type": "code",
   "execution_count": 97,
   "metadata": {},
   "outputs": [],
   "source": [
    "\n",
    "example_graph = nx.DiGraph(G.subgraph(list(example)))\n",
    "l1 = example_graph.nodes()\n",
    "color_map = {}\n",
    "for node in example_graph.nodes():\n",
    "    color_map[node] = 'pink'\n",
    "\n",
    "generator = nx.edge_boundary(G_reverse, list(example))\n",
    "ratings = nx.get_edge_attributes(G_reverse, 'RATING')\n",
    "l2 = []\n",
    "for edge in generator:\n",
    "    example_graph.add_edge(edge[1], edge[0], RATING=ratings[edge])\n",
    "    color_map[edge[1]] = 'blue'\n",
    "    l2.append(edge[1])\n",
    "\n",
    "\n",
    "\n"
   ]
  },
  {
   "cell_type": "code",
   "execution_count": 98,
   "metadata": {},
   "outputs": [
    {
     "data": {
      "image/png": "[encoded data removed]",
      "text/plain": [
       "<Figure size 720x720 with 1 Axes>"
      ]
     },
     "metadata": {},
     "output_type": "display_data"
    }
   ],
   "source": [
    "pos = nx.spring_layout(example_graph)\n",
    "fig = plt.figure(1, figsize=(10, 10))\n",
    "nx.draw(example_graph, pos = pos, edge_color='black', alpha=0.9,)\n",
    "nx.draw_networkx_nodes(example_graph, pos=pos, nodelist=l1, node_color='pink')\n",
    "nx.draw_networkx_nodes(example_graph, pos=pos, nodelist=l2, node_color='blue')\n",
    "nx.draw_networkx_edge_labels(example_graph, pos = pos, edge_labels=nx.get_edge_attributes(example_graph, 'RATING'))\n",
    "plt.axis('off')\n",
    "plt.show()"
   ]
  },
  {
   "cell_type": "markdown",
   "metadata": {},
   "source": [
    "### 探究包含欺诈群体各类社群与good fair间关系"
   ]
  },
  {
   "cell_type": "markdown",
   "metadata": {},
   "source": [
    "good/fair 以gmc为例 直方图 (gmc, 65 communities, without settting cutoff)\n",
    "- good fair分布图 整个网络为整体 个体为单位 两个数据集 12\n",
    "- good fair 分布图 典型欺诈性社群/信任社群/其他社群为整体 社群内个体为单位 一个数据集 13\n",
    "- 平均good fair 分布图 整个网络为整体 欺诈性社群/信任社群/其他社群 为单位 一个数据集 13 先不弄了\n"
   ]
  },
  {
   "cell_type": "markdown",
   "metadata": {},
   "source": [
    "#### Preparation"
   ]
  },
  {
   "cell_type": "code",
   "execution_count": 190,
   "metadata": {},
   "outputs": [],
   "source": [
    "iaws, eaws, diffs, cheatings, commons = analyze_communities(coms=coms_gmc, threshold=5, return_commons=True)"
   ]
  },
  {
   "cell_type": "code",
   "execution_count": 139,
   "metadata": {},
   "outputs": [],
   "source": [
    "# import pickle\n",
    "# with open('fairness_of_nodes.pickle', 'rb') as handle:\n",
    "#     fairness = pickle.load(handle)\n",
    "\n",
    "# with open('goodness_of_nodes.pickle', 'rb') as handle:\n",
    "#     goodness = pickle.load(handle)\n",
    "\n",
    "import pickle\n",
    "with open('fairness_of_nodes(1).pickle', 'rb') as handle:\n",
    "    fairness = pickle.load(handle)\n",
    "\n",
    "with open('goodness_of_nodes(1).pickle', 'rb') as handle:\n",
    "    goodness = pickle.load(handle)\n",
    "\n",
    "import pickle\n",
    "with open('fairness_of_nodes_otc.pickle', 'rb') as handle:\n",
    "    fairness_otc = pickle.load(handle)\n",
    "\n",
    "with open('goodness_of_nodes_otc.pickle', 'rb') as handle:\n",
    "    goodness_otc = pickle.load(handle)"
   ]
  },
  {
   "cell_type": "code",
   "execution_count": 123,
   "metadata": {},
   "outputs": [
    {
     "data": {
      "text/plain": [
       "(0.9999999999999999, 0.35135923922144374)"
      ]
     },
     "execution_count": 123,
     "metadata": {},
     "output_type": "execute_result"
    }
   ],
   "source": [
    "max(fairness.values()), min(fairness.values())"
   ]
  },
  {
   "cell_type": "code",
   "execution_count": 124,
   "metadata": {},
   "outputs": [
    {
     "data": {
      "text/plain": [
       "(0.9937442766341512, -0.99951171875)"
      ]
     },
     "execution_count": 124,
     "metadata": {},
     "output_type": "execute_result"
    }
   ],
   "source": [
    "max(goodness.values()), min(goodness.values())"
   ]
  },
  {
   "cell_type": "markdown",
   "metadata": {},
   "source": [
    "#### good fair分布图 整个网络为整体 个体为单位 两个数据集 12"
   ]
  },
  {
   "cell_type": "code",
   "execution_count": null,
   "metadata": {},
   "outputs": [],
   "source": [
    "# degrees = [g.degree(i) for i in g.nodes()]\n",
    "# my_bins = np.logspace(np.log10(min(degrees)),np.log10(max(degrees) +1), 30 ) \n",
    "# _ = plt.hist(degrees, bins = my_bins,density = True)\n",
    "# plt.xscale('log')\n",
    "# plt.yscale('log')\n",
    "# plt.title(\"degree distribution\")\n",
    "# plt.xlabel('degree')\n",
    "# plt.ylabel('count density (log)')"
   ]
  },
  {
   "cell_type": "code",
   "execution_count": 143,
   "metadata": {},
   "outputs": [],
   "source": [
    "import scipy.stats as stats"
   ]
  },
  {
   "cell_type": "code",
   "execution_count": 296,
   "metadata": {},
   "outputs": [
    {
     "data": {
      "image/png": "[encoded data removed]",
      "text/plain": [
       "<Figure size 1440x360 with 4 Axes>"
      ]
     },
     "metadata": {
      "needs_background": "light"
     },
     "output_type": "display_data"
    }
   ],
   "source": [
    "fig, axs = plt.subplots(1, 4, figsize=(20, 5))\n",
    "# fig.suptitle('Horizontally stacked subplots')\n",
    "# axs[0, 0].set_title('Axis [0, 0]')\n",
    "# ax.set(xlabel='x-label', ylabel='y-label')\n",
    "# fig.set_size_inches(18.5, 10.5)\n",
    "axs[0].hist(fairness.values(), bins = 20, density=True)\n",
    "# axs[0].plot(spacing_f, fairness.values(), )\n",
    "axs[0].set_title(\"Fairness Distribution Alpha\")\n",
    "axs[0].set_xlabel(\"Fairness Score\")\n",
    "axs[0].set_ylabel(\"Fraction (density)\", fontsize=14)\n",
    "axs[1].hist(fairness_otc.values(), bins = 20, density=True)\n",
    "axs[1].set_title(\"Fairness Distribution OTC\")\n",
    "axs[1].set_xlabel(\"Fairness Score\")\n",
    "\n",
    "axs[2].hist(goodness.values(), bins = 20, range=(-1,1),  density=True)\n",
    "axs[2].set_title(\"Goodness Distribution Alpha\")\n",
    "axs[2].set_xlabel(\"Goodness Score\")\n",
    "axs[3].hist(goodness_otc.values(), bins = 20, range=(-1,1),  density=True)\n",
    "axs[3].set_title(\"Goodness Distribution OTC\")\n",
    "axs[3].set_xlabel(\"Goodness Score\")\n",
    "plt.show()\n",
    "fig.savefig('images/group2/fg distribution')"
   ]
  },
  {
   "cell_type": "code",
   "execution_count": null,
   "metadata": {},
   "outputs": [],
   "source": []
  },
  {
   "cell_type": "markdown",
   "metadata": {},
   "source": [
    "#### good fair 分布图 典型欺诈性社群/信任社群/其他社群为整体 社群内个体为单位 一个数据集 13"
   ]
  },
  {
   "cell_type": "code",
   "execution_count": 194,
   "metadata": {},
   "outputs": [],
   "source": [
    "ch = cheatings[0]\n",
    "co = commons[0]"
   ]
  },
  {
   "cell_type": "code",
   "execution_count": 185,
   "metadata": {},
   "outputs": [
    {
     "data": {
      "text/plain": [
       "([0.5324904036648634,\n",
       "  0.47539953132101276,\n",
       "  0.7360286555599701,\n",
       "  0.7621494454177806,\n",
       "  0.5580209272050543],\n",
       " [-0.20976973910005026,\n",
       "  -0.5024483962534055,\n",
       "  -0.36546470722410346,\n",
       "  -0.09794627394229659,\n",
       "  -0.32392274668047694,\n",
       "  -0.28396133329216594,\n",
       "  -0.29817677155765465,\n",
       "  -0.24611563866006927])"
      ]
     },
     "execution_count": 185,
     "metadata": {},
     "output_type": "execute_result"
    }
   ],
   "source": [
    "fair_cheating = []\n",
    "good_cheating = []\n",
    "for node in ch:\n",
    "    if node in fairness.keys():\n",
    "        fair_cheating.append(fairness[node])\n",
    "    if node in goodness.keys():\n",
    "        good_cheating.append(goodness[node])\n",
    "\n",
    "fair_cheating, good_cheating"
   ]
  },
  {
   "cell_type": "code",
   "execution_count": 195,
   "metadata": {},
   "outputs": [],
   "source": [
    "fair_common = []\n",
    "good_common = []\n",
    "for node in co:\n",
    "    if node in fairness.keys():\n",
    "        fair_common.append(fairness[node])\n",
    "    if node in goodness.keys():\n",
    "        good_common.append(goodness[node])"
   ]
  },
  {
   "cell_type": "code",
   "execution_count": 298,
   "metadata": {},
   "outputs": [
    {
     "data": {
      "image/png": "[encoded data removed]",
      "text/plain": [
       "<Figure size 1440x360 with 4 Axes>"
      ]
     },
     "metadata": {
      "needs_background": "light"
     },
     "output_type": "display_data"
    }
   ],
   "source": [
    "fig, axs = plt.subplots(1, 4, figsize=(20, 5))\n",
    "# fig.suptitle('Horizontally stacked subplots')\n",
    "# axs[0, 0].set_title('Axis [0, 0]')\n",
    "# ax.set(xlabel='x-label', ylabel='y-label')\n",
    "# fig.set_size_inches(18.5, 10.5)\n",
    "axs[0].hist(fair_cheating, range=(0,1), density=True)\n",
    "# axs[0].plot(spacing_f, fairness.values(), )\n",
    "axs[0].set_title(\"Fairness Distribution in Cheating Community\")\n",
    "axs[0].set_xlabel(\"Fairness Score\")\n",
    "axs[0].set_ylabel(\"Fraction (density)\", fontsize=14)\n",
    "\n",
    "axs[1].hist(fair_common, range=(0,1), density=True)\n",
    "axs[1].set_title(\"Fairness Distribution in Common Community\")\n",
    "axs[1].set_xlabel(\"Fairness Score\")\n",
    "\n",
    "axs[2].hist(good_cheating, range=(-1,1),  density=True)\n",
    "axs[2].set_title(\"Goodness Distribution in Cheating Community\")\n",
    "axs[2].set_xlabel(\"Goodness Score\")\n",
    "axs[3].hist(good_common, range=(-1,1),  density=True)\n",
    "axs[3].set_title(\"Goodness Distribution in Common Community\")\n",
    "axs[3].set_xlabel(\"Goodness Score\")\n",
    "plt.show()\n",
    "fig.savefig('images/group2/fg ch vs co distribution')"
   ]
  },
  {
   "cell_type": "markdown",
   "metadata": {},
   "source": []
  },
  {
   "cell_type": "code",
   "execution_count": null,
   "metadata": {},
   "outputs": [],
   "source": []
  },
  {
   "cell_type": "markdown",
   "metadata": {},
   "source": [
    "### 探究社群划分数量与大小 与diffs的关系\n",
    "diffs \n",
    "algorithm, number, score difference, strong connected, multiple datasets, avg fog, community size\n",
    "\n",
    "折线图\n",
    "gmc，flu 横排 community number 纵向 diffs判定为cheating，信赖，普通的百分比 两个数据集 1 4 没法画\n",
    "\n",
    "点云图\n",
    "四种算法 横轴 community size 纵轴 diffs （可能平均fog）1 4 一个或两个数据集"
   ]
  },
  {
   "cell_type": "code",
   "execution_count": 221,
   "metadata": {},
   "outputs": [
    {
     "name": "stdout",
     "output_type": "stream",
     "text": [
      "100\n",
      "100\n",
      "150\n",
      "150\n",
      "200\n",
      "200\n",
      "250\n",
      "250\n",
      "300\n",
      "300\n"
     ]
    }
   ],
   "source": [
    "avg_gmc = []\n",
    "for cutoff in [100, 150, 200, 250, 300]:\n",
    "    print(cutoff)\n",
    "    coms_gmc = list(nxcom.greedy_modularity_communities(G, cutoff=cutoff)) #cut off\n",
    "    print(len(coms_gmc))\n",
    "    iaws, eaws, diffs, cheatings, commons = analyze_communities(coms=coms_gmc, threshold=5, return_commons=True)\n",
    "    data = [[],[],[]]\n",
    "    avgs = []\n",
    "    for diff in diffs:\n",
    "        if diff >= 10:\n",
    "            data[0].append(diff)\n",
    "        elif diff >= 5:\n",
    "            data[1].append(diff)\n",
    "        else:\n",
    "            data[2].append(diff)\n",
    "    avgs.append(len(data[0])/len(diffs))\n",
    "    avgs.append(len(data[1])/len(diffs))\n",
    "    avgs.append(len(data[2])/len(diffs))\n",
    "    avg_gmc.append(avgs)\n",
    "    \n",
    "    "
   ]
  },
  {
   "cell_type": "code",
   "execution_count": 222,
   "metadata": {},
   "outputs": [
    {
     "name": "stdout",
     "output_type": "stream",
     "text": [
      "100\n",
      "100\n",
      "150\n",
      "150\n",
      "200\n",
      "200\n",
      "250\n",
      "250\n",
      "300\n",
      "300\n"
     ]
    }
   ],
   "source": [
    "avg_gmc_otc = []\n",
    "for cutoff in [100, 150, 200, 250, 300]:\n",
    "    print(cutoff)\n",
    "    coms_gmc = list(nxcom.greedy_modularity_communities(G_otc, cutoff=cutoff)) #cut off\n",
    "    print(len(coms_gmc))\n",
    "    iaws, eaws, diffs, cheatings, commons = analyze_communities(coms=coms_gmc, threshold=5, return_commons=True)\n",
    "    data = [[],[],[]]\n",
    "    avgs = []\n",
    "    for diff in diffs:\n",
    "        if diff >= 10:\n",
    "            data[0].append(diff)\n",
    "        elif diff >= 5:\n",
    "            data[1].append(diff)\n",
    "        else:\n",
    "            data[2].append(diff)\n",
    "    avgs.append(len(data[0])/len(diffs))\n",
    "    avgs.append(len(data[1])/len(diffs))\n",
    "    avgs.append(len(data[2])/len(diffs))\n",
    "    avg_gmc_otc.append(avgs)"
   ]
  },
  {
   "cell_type": "code",
   "execution_count": 223,
   "metadata": {},
   "outputs": [
    {
     "data": {
      "text/plain": [
       "([[0.03896103896103896, 0.06493506493506493, 0.8961038961038961],\n",
       "  [0.0379746835443038, 0.06329113924050633, 0.8987341772151899],\n",
       "  [0.0379746835443038, 0.06329113924050633, 0.8987341772151899],\n",
       "  [0.0379746835443038, 0.06329113924050633, 0.8987341772151899],\n",
       "  [0.0375, 0.0625, 0.9]],\n",
       " [[0.0, 0.0, 1.0],\n",
       "  [0.0, 0.0, 1.0],\n",
       "  [0.0, 0.0, 1.0],\n",
       "  [0.0, 0.0, 1.0],\n",
       "  [0.0, 0.0, 1.0]])"
      ]
     },
     "execution_count": 223,
     "metadata": {},
     "output_type": "execute_result"
    }
   ],
   "source": [
    "avg_gmc, avg_gmc_otc"
   ]
  },
  {
   "cell_type": "code",
   "execution_count": 213,
   "metadata": {},
   "outputs": [
    {
     "data": {
      "image/png": "[encoded data removed]",
      "text/plain": [
       "<Figure size 720x360 with 2 Axes>"
      ]
     },
     "metadata": {
      "needs_background": "light"
     },
     "output_type": "display_data"
    }
   ],
   "source": [
    "fig, axs = plt.subplots(1, 2, figsize=(10, 5))\n",
    "# fig.suptitle('Horizontally stacked subplots')\n",
    "# axs[0, 0].set_title('Axis [0, 0]')\n",
    "# ax.set(xlabel='x-label', ylabel='y-label')\n",
    "# fig.set_size_inches(18.5, 10.5)\n",
    "avg_gmc = np.array(avg_gmc)\n",
    "avg_gmc_otc = np.array(avg_gmc_otc)\n",
    "r = [100, 150, 200, 250, 300]\n",
    "axs[0].plot(r, avg_gmc[:, 0])\n",
    "axs[0].plot(r, avg_gmc[:, 1])\n",
    "axs[0].plot(r, avg_gmc[:, 2])\n",
    "# axs[0].plot(spacing_f, fairness.values(), )\n",
    "axs[0].set_title(\"Community Types Percentage Changing with Community Number (Alpha)\")\n",
    "axs[0].set_xlabel(\"Community Number\")\n",
    "axs[0].set_ylabel(\"Fraction of Different Types of Community\", fontsize=14)\n",
    "\n",
    "axs[1].plot(r, avg_gmc_otc[:, 0])\n",
    "axs[1].plot(r, avg_gmc_otc[:, 1])\n",
    "axs[1].plot(r, avg_gmc_otc[:, 2])\n",
    "axs[0].set_title(\"Community Types Percentage Changing with Community Number (OTC)\")\n",
    "axs[0].set_xlabel(\"Community Number\")\n",
    "axs[0].set_ylabel(\"Fraction of Different Types of Community\", fontsize=14)\n",
    "\n",
    "plt.show()\n",
    "fig.savefig('images/group2/fg ch vs co distribution')"
   ]
  },
  {
   "cell_type": "code",
   "execution_count": 203,
   "metadata": {},
   "outputs": [],
   "source": [
    "# avg_flu = []\n",
    "# for cutoff in [10, 20, 30, 40, 50]:\n",
    "#     print(cutoff)\n",
    "#     coms_gmc = list(nxcom.greedy_modularity_communities(G, cutoff=cutoff)) #cut off\n",
    "#     iaws, eaws, diffs, cheatings, commons = analyze_communities(coms=coms, threshold=5, return_commons=True)\n",
    "#     data = [[],[],[]]\n",
    "#     avgs = []\n",
    "#     for diff in diffs:\n",
    "#         if diff >= 10:\n",
    "#             data[0].append(diff)\n",
    "#         elif diff >= 5:\n",
    "#             data[1].append(diff)\n",
    "#         else:\n",
    "#             data[2].append(diff)\n",
    "#     avgs.append(len(data[0])/len(diffs))\n",
    "#     avgs.append(len(data[1])/len(diffs))\n",
    "#     avgs.append(len(data[2])/len(diffs))\n",
    "#     avg_flu.append(avgs)"
   ]
  },
  {
   "cell_type": "code",
   "execution_count": 204,
   "metadata": {},
   "outputs": [
    {
     "data": {
      "text/plain": [
       "([[0.04918032786885246, 0.04918032786885246, 0.9016393442622951],\n",
       "  [0.04918032786885246, 0.04918032786885246, 0.9016393442622951],\n",
       "  [0.04918032786885246, 0.04918032786885246, 0.9016393442622951],\n",
       "  [0.04918032786885246, 0.04918032786885246, 0.9016393442622951],\n",
       "  [0.04918032786885246, 0.04918032786885246, 0.9016393442622951]],\n",
       " [[0.0, 0.0, 1.0],\n",
       "  [0.0, 0.0, 1.0],\n",
       "  [0.0, 0.0, 1.0],\n",
       "  [0.0, 0.005208333333333333, 0.9947916666666666]])"
      ]
     },
     "execution_count": 204,
     "metadata": {},
     "output_type": "execute_result"
    }
   ],
   "source": [
    "# avg_gmc, avg_flu\n"
   ]
  },
  {
   "cell_type": "markdown",
   "metadata": {},
   "source": [
    "#### 四种算法 横轴 community size 纵轴 diffs （可能平均fog）1 4 一个或两个数据集"
   ]
  },
  {
   "cell_type": "code",
   "execution_count": 226,
   "metadata": {},
   "outputs": [],
   "source": [
    "# 4 algorithms\n",
    "coms_gmc = list(nxcom.greedy_modularity_communities(G)) #cut off\n",
    "\n",
    "# coms_gmc, coms_lpc, coms_fluidc[-1], coms_k_clique[0]"
   ]
  },
  {
   "cell_type": "code",
   "execution_count": 285,
   "metadata": {},
   "outputs": [],
   "source": [
    "def cal_x_y(coms_all):\n",
    "    iaws, eaws, diffs, cheatings = analyze_communities(coms=coms_all)\n",
    "    x, y = [], []\n",
    "    for coms, diff in zip(coms_all, diffs):\n",
    "        x.append(len(coms))\n",
    "        y.append(diff)\n",
    "    return np.array(x), np.array(y), diffs"
   ]
  },
  {
   "cell_type": "code",
   "execution_count": 286,
   "metadata": {},
   "outputs": [],
   "source": [
    "coms_alls = [coms_gmc, coms_lpc, coms_fluidc[-1], coms_k_clique[0]]    \n",
    "xs, ys = [], []\n",
    "diffss = []\n",
    "\n",
    "for coms_all in coms_alls:\n",
    "\n",
    "    x, y, diffs = cal_x_y(coms_all)\n",
    "    xs.append(x)\n",
    "    ys.append(y)\n",
    "    diffss.append(diffs)"
   ]
  },
  {
   "cell_type": "code",
   "execution_count": 283,
   "metadata": {},
   "outputs": [
    {
     "data": {
      "image/png": "[encoded data removed]",
      "text/plain": [
       "<Figure size 576x504 with 1 Axes>"
      ]
     },
     "metadata": {
      "needs_background": "light"
     },
     "output_type": "display_data"
    }
   ],
   "source": [
    "fig, ax = plt.subplots(figsize=(8,7))\n",
    "symbols = ['D', 'o', 'x', 's']\n",
    "legends = ['Greedy Modularity', 'Label Propagation', 'Fluid', 'K-clique']\n",
    "for i in range(len(xs)):\n",
    "    ax.plot(xs[i], ys[i], symbols[i], markersize = 3.5, label=legends[i])\n",
    "    ax.set_xscale('log')\n",
    "    ax.set_yscale('log')\n",
    "ax.set_title(\"In-External Rating Difference from Algotithms\", fontsize=20)\n",
    "ax.set_xlabel(\"Community Size\", fontsize=15)\n",
    "ax.set_ylabel(\"Difference Score\", fontsize=15)\n",
    "plt.legend(bbox_to_anchor=(1.05, 1), loc='upper left', borderaxespad=0.)\n",
    "plt.savefig('images/group2/In-External Difference.jpg')"
   ]
  },
  {
   "cell_type": "code",
   "execution_count": 297,
   "metadata": {},
   "outputs": [
    {
     "data": {
      "image/png": "[encoded data removed]",
      "text/plain": [
       "<Figure size 1440x360 with 4 Axes>"
      ]
     },
     "metadata": {
      "needs_background": "light"
     },
     "output_type": "display_data"
    }
   ],
   "source": [
    "fig, axs = plt.subplots(1, 4, figsize=(20, 5))\n",
    "# fig.suptitle('Horizontally stacked subplots')\n",
    "# axs[0, 0].set_title('Axis [0, 0]')\n",
    "# ax.set(xlabel='x-label', ylabel='y-label')\n",
    "# fig.set_size_inches(18.5, 10.5)\n",
    "axs[0].hist(diffss[0], bins=int(max(diffss[0])-1), density=True)\n",
    "# axs[0].plot(spacing_f, fairness.values(), )\n",
    "axs[0].set_title(\"Rating Difference from Greedy Modularity\")\n",
    "axs[0].set_xlabel(\"Difference Score\")\n",
    "axs[0].set_ylabel(\"Fraction (density)\", fontsize=14)\n",
    "axs[1].hist(diffss[1], bins=int(max(diffss[0])-1), density=True)\n",
    "axs[1].set_title(\"Rating Difference from Label Propagation\")\n",
    "axs[1].set_xlabel(\"Difference Score\")\n",
    "\n",
    "axs[2].hist(diffss[2], bins=int(max(diffss[0])-1), density=True)\n",
    "axs[2].set_title(\"Rating Difference from Fluid\")\n",
    "axs[2].set_xlabel(\"Difference Score\")\n",
    "axs[3].hist(diffss[3], bins=int(max(diffss[0])-1), density=True)\n",
    "axs[3].set_title(\"Rating Difference from K-clique\")\n",
    "axs[3].set_xlabel(\"Difference Score\")\n",
    "plt.show()\n",
    "fig.savefig('images/group2/diff distribution')"
   ]
  },
  {
   "cell_type": "code",
   "execution_count": null,
   "metadata": {},
   "outputs": [],
   "source": [
    "fig, axs = plt.subplots(1, 4, figsize=(10, 5))\n",
    "# fig.suptitle('Horizontally stacked subplots')\n",
    "# axs[0, 0].set_title('Axis [0, 0]')\n",
    "# ax.set(xlabel='x-label', ylabel='y-label')\n",
    "# fig.set_size_inches(18.5, 10.5)\n",
    "\n",
    "axs[0].plot(r, avg_gmc[:, 0])\n",
    "axs[0].plot(r, avg_gmc[:, 1])\n",
    "axs[0].plot(r, avg_gmc[:, 2])\n",
    "# axs[0].plot(spacing_f, fairness.values(), )\n",
    "axs[0].set_title(\"Community Types Percentage Changing with Community Number (Alpha)\")\n",
    "axs[0].set_xlabel(\"Community Number\")\n",
    "axs[0].set_ylabel(\"Fraction of Different Types of Community\", fontsize=14)\n",
    "\n",
    "axs[1].plot(r, avg_gmc_otc[:, 0])\n",
    "axs[1].plot(r, avg_gmc_otc[:, 1])\n",
    "axs[1].plot(r, avg_gmc_otc[:, 2])\n",
    "axs[0].set_title(\"Community Types Percentage Changing with Community Number (OTC)\")\n",
    "axs[0].set_xlabel(\"Community Number\")\n",
    "axs[0].set_ylabel(\"Fraction of Different Types of Community\", fontsize=14)\n",
    "\n",
    "plt.show()\n",
    "fig.savefig('images/group2/fg ch vs co distribution')"
   ]
  }
 ],
 "metadata": {
  "kernelspec": {
   "display_name": "Python 3.9.12 ('base')",
   "language": "python",
   "name": "python3"
  },
  "language_info": {
   "codemirror_mode": {
    "name": "ipython",
    "version": 3
   },
   "file_extension": ".py",
   "mimetype": "text/x-python",
   "name": "python",
   "nbconvert_exporter": "python",
   "pygments_lexer": "ipython3",
   "version": "3.9.12"
  },
  "orig_nbformat": 4,
  "vscode": {
   "interpreter": {
    "hash": "29ac1603b20e9949adfba2c1d532dd9772466cd9cf36154d7b125df92c7f874c"
   }
  }
 },
 "nbformat": 4,
 "nbformat_minor": 2
}
